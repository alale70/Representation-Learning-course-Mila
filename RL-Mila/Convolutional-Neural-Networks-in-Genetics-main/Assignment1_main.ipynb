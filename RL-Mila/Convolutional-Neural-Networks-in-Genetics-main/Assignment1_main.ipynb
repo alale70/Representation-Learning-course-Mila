{
  "cells": [
    {
      "cell_type": "markdown",
      "metadata": {
        "id": "zCwYnOWI0K5G"
      },
      "source": [
        "# Genetics Application\n",
        "\n",
        "For this set of questions, we will explore the use of Convolutional Neural Networks to solve a problem with Biological significance (don't worry, no background knowledge is expected). Every cell in your body contains Deoxyribonucleic acid (DNA), which is essentially the instructions for making all the proteins in your body. DNA can be thought of as a very long string where the alphabet is \\{A,C,T,G\\}.\n",
        "The physical attributes of the DNA string and its characters are not important here, except that ~98% of our DNA is physically inaccessible to external molecules. Understanding which regions of DNA are accessible and why is of great interest to scientists. This motivates learning predictive models which could accurately classify such regions. In particular, we will be implementing the deep network called [Basset](https://pubmed.ncbi.nlm.nih.gov/27197224/).\n"
      ]
    },
    {
      "cell_type": "code",
      "execution_count": null,
      "metadata": {
        "id": "BB1odRcEQdHp"
      },
      "outputs": [],
      "source": [
        "#@title Mount your Google Drive\n",
        "%matplotlib inline\n",
        "%load_ext autoreload\n",
        "%autoreload 2\n",
        "\n",
        "from google.colab import drive\n",
        "drive.mount('/content/gdrive')"
      ]
    },
    {
      "cell_type": "code",
      "execution_count": null,
      "metadata": {
        "id": "Pml4PO8l0YWk"
      },
      "outputs": [],
      "source": [
        "#@title Link your assignment folder & install requirements\n",
        "#@markdown Enter the path to the assignment folder in your Google Drive\n",
        "import sys\n",
        "import os\n",
        "import shutil\n",
        "import warnings\n",
        "\n",
        "folder = \"/content/gdrive/MyDrive/A1\" #@param {type:\"string\"}\n",
        "!ln -Ts $folder /content/A1 2> /dev/null\n",
        "\n",
        "# Add the assignment folder to Python path\n",
        "if '/content/A1' not in sys.path:\n",
        "    sys.path.insert(0, '/content/A1')\n",
        "\n",
        "# Install requirements\n",
        "!pip install -qr /content/A1/requirements.txt\n",
        "\n",
        "# Check if CUDA is available\n",
        "import torch\n",
        "if not torch.cuda.is_available():\n",
        "    warnings.warn('CUDA is not available.')"
      ]
    },
    {
      "cell_type": "code",
      "execution_count": null,
      "metadata": {
        "id": "dtoPVSqz48lX"
      },
      "outputs": [],
      "source": [
        "# unzip data\n",
        "if not os.path.exists('/content/A1/er.h5'):\n",
        "    os.system('unzip /content/A1/er.zip')\n",
        "    os.system('mv /content/er.h5 /content/A1/er.h5')"
      ]
    },
    {
      "cell_type": "markdown",
      "metadata": {
        "id": "vzCmch4U1nn7"
      },
      "source": [
        "## Running on GPU\n",
        "In Google Colab, you can run your code on GPU. This will be particularly important in CNN part of the assignment. To make sure the notebook is running on GPU, you can change the notebook settings with\n",
        "* (EN) `Edit > Notebook Settings`\n",
        "* (FR) `Modifier > Paramètres du notebook`\n",
        "\n",
        "Be mindful not to use the GPU if your code does not need to run on GPU."
      ]
    },
    {
      "cell_type": "code",
      "execution_count": null,
      "metadata": {
        "id": "sdRulajo1yNM"
      },
      "outputs": [],
      "source": [
        "import random\n",
        "\n",
        "import numpy as np\n",
        "import h5py\n",
        "from torch.utils.data import Dataset, DataLoader\n",
        "import torch.optim as optim\n",
        "\n",
        "import solution"
      ]
    },
    {
      "cell_type": "code",
      "execution_count": null,
      "metadata": {
        "id": "S1Fl3O998HzR"
      },
      "outputs": [],
      "source": [
        "# The hyperparameters we will use\n",
        "batch_size = 64\n",
        "learning_rate = 0.002"
      ]
    },
    {
      "cell_type": "code",
      "execution_count": null,
      "metadata": {
        "id": "FJhundfW8OAK"
      },
      "outputs": [],
      "source": [
        "device = torch.device(\"cuda\" if torch.cuda.is_available() else \"cpu\")\n",
        "\n",
        "# set RNG\n",
        "seed = 42\n",
        "torch.backends.cudnn.deterministic = True\n",
        "torch.manual_seed(seed)\n",
        "np.random.seed(seed)\n",
        "random.seed(seed)\n",
        "if device.type=='cuda':\n",
        "    torch.cuda.manual_seed(seed)\n",
        "    torch.cuda.manual_seed_all(seed)"
      ]
    },
    {
      "cell_type": "markdown",
      "metadata": {
        "id": "Dzm7-Yyk7X8z"
      },
      "source": [
        "Let's build the dataset that we will be using. Before doing any machine learning, you should always inspect the data you will be using (especially when that data is uncommon)!\n",
        "\n",
        "In our case, the input data are subsequences of DNA that come from the reference human genome HG19. HG19 can be thought of as the DNA of a prototypical human (but it does not come from any single person).\n",
        "The input data is one-hot encoded, such that:\n",
        "\n",
        "$$A = \\begin{pmatrix} 1 \\\\ 0 \\\\ 0 \\\\ 0 \\end{pmatrix}, C = \\begin{pmatrix} 0 \\\\ 1 \\\\ 0 \\\\ 0 \\end{pmatrix}, G = \\begin{pmatrix} 0 \\\\ 0 \\\\ 1 \\\\ 0 \\end{pmatrix}, T = \\begin{pmatrix} 0 \\\\ 0 \\\\ 0 \\\\ 1 \\end{pmatrix}$$\n",
        "\n",
        "Each base-pair $\\{A,C,G,T\\}$ are concatenated along the length of the sequence. Each data point is equivalent to an image with a rectangular shape (sequence length, 4) and a single channel for data processing purposes.\n",
        "\n",
        "The target data for our sequence are binary strings encoded as $1$ if the DNA subsequence is accessible and $0$ if it is not. This data was collected across experiments. For each sample, the target is a vector of size 164, with $1$s in the indices of the experiments where the DNA is accessible and $0$ otherwise."
      ]
    },
    {
      "cell_type": "markdown",
      "metadata": {
        "id": "D_uSBWVksJPE"
      },
      "source": [
        "# **Question 1 (Understanding the Data)** \n",
        "(10 points). You will notice that PyTorch is very object-oriented -- everything you use is the subclass of a PyTorch class. For datasets, we subclass `torch.utils.data.Dataset`.\n",
        "\n",
        "1. Define the `__getitem__` and `__len__` methods for the `BassetDataset` class in `solution.py`\n",
        "2. What is the length of each sequence we will feed into our model?  Make the `get_seq_len` method of the `BassetDataset` class to return it.\n",
        "3. Is it true that each data point is also equivalent to an image with a rectangular shape (1, sequence length) with 4 channels? Write the method `is_equvalent` to return your answer (either return True or False).\n",
        "\n",
        "Note: this data has already been pre-processed, so do not include any additional data transformations!"
      ]
    },
    {
      "cell_type": "code",
      "execution_count": null,
      "metadata": {
        "id": "mDmrenF07TwY"
      },
      "outputs": [],
      "source": [
        "# investigate your data\n",
        "f = h5py.File('/content/A1/er.h5', 'r')\n",
        "f.keys()\n",
        "f.close()\n",
        "#dset = f['train_out']\n",
        "#dset.shape, dset.dtype, dset.dims\n",
        "#dd = f['target_labels']"
      ]
    },
    {
      "cell_type": "code",
      "execution_count": null,
      "metadata": {
        "id": "v2P1XHMAMZD4"
      },
      "outputs": [],
      "source": [
        "basset_dataset_train = solution.BassetDataset(path='/content/A1', f5name='er.h5', split='train')\n",
        "basset_dataset_valid = solution.BassetDataset(path='/content/A1', f5name='er.h5', split='valid')\n",
        "basset_dataset_test = solution.BassetDataset(path='/content/A1', f5name='er.h5', split='test')\n",
        "basset_dataloader_train = DataLoader(basset_dataset_train,\n",
        "                                     batch_size=batch_size,\n",
        "                                     drop_last=True,\n",
        "                                     shuffle=True,\n",
        "                                     num_workers=1)\n",
        "basset_dataloader_valid = DataLoader(basset_dataset_valid,\n",
        "                                     batch_size=batch_size,\n",
        "                                     drop_last=True,\n",
        "                                     shuffle=False,\n",
        "                                     num_workers=1)\n",
        "basset_dataloader_test = DataLoader(basset_dataset_test,\n",
        "                                    batch_size=batch_size,\n",
        "                                    drop_last=True,\n",
        "                                    shuffle=False,\n",
        "                                    num_workers=1)"
      ]
    },
    {
      "cell_type": "markdown",
      "metadata": {
        "id": "ZFH5c18f89_Y"
      },
      "source": [
        "# **Question 2 (Building the Network)** \n",
        "(15 points). PyTorch also provides an abstraction for differentiable models: `torch.nn.Module`. In `solution.py`, we define Basset as a subclass of this class.\n",
        "\n",
        "1. Fill in the missing values denoted as `?` within the class definition using [supplementary figure 13](https://genome.cshlp.org/content/suppl/2016/06/10/gr.200535.115.DC1/Supplementary_Figures.pdf) and convolution arithmetic.\n",
        "2. Write the `forward` pass function. Again, please refer to [supplementary figure 13](https://genome.cshlp.org/content/suppl/2016/06/10/gr.200535.115.DC1/Supplementary_Figures.pdf).\n",
        "\n",
        "  Do not include any output activation in your forward method! In practice, it is better to use a loss function that has the output activation built-in."
      ]
    },
    {
      "cell_type": "code",
      "execution_count": null,
      "metadata": {
        "id": "8EFHMkC6RGG3"
      },
      "outputs": [],
      "source": [
        "model = solution.Basset().to(device)"
      ]
    },
    {
      "cell_type": "markdown",
      "metadata": {
        "id": "tpHfTqxhYER_"
      },
      "source": [
        "# **Question 3 (Area Under the Curve)** \n",
        "(25 points). Each DNA sequence is either exposed (we'll call this the positive case) or not (we'll call this the negative case). The output of our model should be used to return a binary decision about the sequence.\n",
        "\n",
        "For a given case, we say that our model made a positive prediction whenever its output value is above some threshold $k$, and a negative prediction otherwise.\n",
        "\n",
        "Define the *True Positive Rate* (TPR) as the number of correctly prediced positive cases divided by the number of positive cases. Define the *False Positive Rate* (FPR) as the  number of cases that were incorrectly predicted as positive divided by the number of negative cases.\n",
        "\n",
        "1. Complete the function `compute_fpr_tpr` in `solution.py`. This code will compute the TPR and FPR given your models decisions and the true targets.\n",
        "\n",
        "2. Your FPR and TPR change as a function of $k$. Specifically, we can plot the FPR on the x-axis and the TPR on the y-axis for different values of $k$. The shape of the resulting curve (ROC curve) tells us something about our classifiers performance. We will explore via simulation what this plot looks like when our model is just making random guesses. In `solution.py`, fill in the function `compute_fpr_tpr_dumb_model`. This function will generate 1000 binary random variables to use as targets and 1000 uniform random variables between 0 and 1 as our model predictions. It will then compute the fpr and tpr for $k\\in \\{0, 0.05,..., 0.95\\}$ You should plot what the ROC curves look like for your own knowledge."
      ]
    },
    {
      "cell_type": "code",
      "execution_count": null,
      "metadata": {
        "id": "u_ewjBEFw-Gr"
      },
      "outputs": [],
      "source": [
        "output = solution.compute_fpr_tpr_dumb_model()"
      ]
    },
    {
      "cell_type": "code",
      "source": [
        "output_smart = solution.compute_fpr_tpr_smart_model()"
      ],
      "metadata": {
        "id": "BfSK_mXWl5Hd"
      },
      "execution_count": null,
      "outputs": []
    },
    {
      "cell_type": "code",
      "source": [
        "import matplotlib.pyplot as plt\n",
        "plt.plot(output['fpr_list'], output['tpr_list'])\n",
        "plt.ylabel('True Positive Rate')\n",
        "plt.xlabel('False Positive Rate')\n",
        "plt.title('Dumb Model')\n",
        "plt.show()"
      ],
      "metadata": {
        "colab": {
          "base_uri": "https://localhost:8080/",
          "height": 295
        },
        "id": "mjG7U2xYVYGW",
        "outputId": "ec19d3ee-8378-4394-a0a1-a7fb3c86ee71"
      },
      "execution_count": null,
      "outputs": [
        {
          "output_type": "display_data",
          "data": {
            "image/png": "[encoded data removed]",
            "text/plain": [
              "<Figure size 432x288 with 1 Axes>"
            ]
          },
          "metadata": {
            "needs_background": "light"
          }
        }
      ]
    },
    {
      "cell_type": "markdown",
      "metadata": {
        "id": "3cWBplcrw8wl"
      },
      "source": [
        "3. We will now simulate a better model. In `solution.py`, fill in the function `compute_fpr_tpr_smart_model`. This will simulate 1000 targets the same way as before. However, this will simulate model outputs as uniform random variables between 0.4 and 1 for the positive cases. For the negative cases, simulate uniform random variables between 0 and 0.6. Compute the tpr and fpr varying $k$ like before. You should also look at the ROC curve."
      ]
    },
    {
      "cell_type": "code",
      "execution_count": null,
      "metadata": {
        "id": "_Vdr40asxBUu",
        "colab": {
          "base_uri": "https://localhost:8080/",
          "height": 295
        },
        "outputId": "52d3f042-772c-4951-8ff0-b65bd5b4e3b9"
      },
      "outputs": [
        {
          "output_type": "display_data",
          "data": {
            "image/png": "[encoded data removed]",
            "text/plain": [
              "<Figure size 432x288 with 1 Axes>"
            ]
          },
          "metadata": {
            "needs_background": "light"
          }
        }
      ],
      "source": [
        "#output_smart = solution.compute_fpr_tpr_smart_model()\n",
        "import matplotlib.pyplot as plt\n",
        "plt.plot(output_smart['fpr_list'], output_smart['tpr_list'], label = 'Smart', color = 'g')\n",
        "plt.plot(output['fpr_list'], output['tpr_list'], label ='Dumb', color = 'y')\n",
        "plt.ylabel('True Positive Rate')\n",
        "plt.xlabel('False Positive Rate')\n",
        "plt.text(0.4,0.1,'Smart model AUC is: 0.94993')\n",
        "plt.text(0.4,0.2,'Dumb model AUC is: 0.5232')\n",
        "\n",
        "plt.title( 'ROC curve and AUC for smart and dumb model')\n",
        "plt.legend()\n",
        "plt.show()"
      ]
    },
    {
      "cell_type": "markdown",
      "metadata": {
        "id": "0-rqX9_UxBkK"
      },
      "source": [
        "4. The Area Under the ROC Curve (AUC) summarizes the ROC plot as a single number. It is literally computed as the area under the the ROC curve (take the average of the left and right Reimann sums). Complete the function `utils.compute_auc` and use it in the function `compute_auc_both_models` to compute the AUC of the ROC curves you made in parts 2 and 3."
      ]
    },
    {
      "cell_type": "code",
      "execution_count": null,
      "metadata": {
        "id": "cvyUIbsBxDSO",
        "colab": {
          "base_uri": "https://localhost:8080/"
        },
        "outputId": "65c153c9-045f-4a1a-a202-8b8f48bcc40a"
      },
      "outputs": [
        {
          "output_type": "stream",
          "name": "stdout",
          "text": [
            "AUC for Dumb Model is: 0.5232255250701227\n",
            "AUC for Smart Model is: 0.9499357791924583\n"
          ]
        }
      ],
      "source": [
        "auc_both = solution.compute_auc_both_models()\n",
        "\n",
        "print('AUC for Dumb Model is:', auc_both['auc_dumb_model'])\n",
        "print('AUC for Smart Model is:', auc_both['auc_smart_model'])"
      ]
    },
    {
      "cell_type": "markdown",
      "metadata": {
        "id": "EUDMl_NaxDjV"
      },
      "source": [
        "5. Complete the function `compute_auc_untrained_model`, which will compute the AUC of your untrained model. Use the first 100 batches of the test set.\n",
        "\n",
        "    Note: since we are doing multi-task prediction, your model outputs and targets will have shape (Batch size, Num targets). Flatten these matrices so that they are two vectors, each of size Batch size * Num targets.\n",
        "    Then, procede with AUC as if you were in the usual single task case..."
      ]
    },
    {
      "cell_type": "code",
      "execution_count": null,
      "metadata": {
        "id": "-yJn7gvzxEQT"
      },
      "outputs": [],
      "source": [
        "untrained_auc = solution.compute_auc_untrained_model(model, basset_dataloader_test, device)"
      ]
    },
    {
      "cell_type": "code",
      "source": [
        "print('AUC of the untrained model is:',untrained_auc['auc'])"
      ],
      "metadata": {
        "id": "jioetcfrWj83"
      },
      "execution_count": null,
      "outputs": []
    },
    {
      "cell_type": "markdown",
      "metadata": {
        "id": "OXNicb2xL6_k"
      },
      "source": [
        "# **Question 4 (Training the Network)**\n",
        "(20 points) We will now write the training loop for Basset.\n",
        "\n",
        "1. Notice that for each input, we have one target per experiment, and each target is binary. Write the function `get_critereon`, which will pick the appropriate `loss` function. \n",
        "\n",
        "  Hint: you may consult the [relevant PyTorch documentation](https://pytorch.org/docs/stable/nn.html#loss-functions)\n",
        "\n"
      ]
    },
    {
      "cell_type": "code",
      "execution_count": null,
      "metadata": {
        "id": "fiOOMTfRaz60"
      },
      "outputs": [],
      "source": [
        "criterion = solution.get_critereon()"
      ]
    },
    {
      "cell_type": "markdown",
      "metadata": {
        "id": "9y8MvhYcaZ4X"
      },
      "source": [
        "2. Finish the training loop by filling in the missing code for the `train_loop`  pass and `valid_loop` functions in `solution.py.`\n",
        "\n",
        "    Both loops must return the loss and AUC (computed the same way as the previous question). They must be returned by each function (see the docstring for more details)."
      ]
    },
    {
      "cell_type": "code",
      "execution_count": null,
      "metadata": {
        "id": "KE_ODCimT5n8"
      },
      "outputs": [],
      "source": [
        "optimizer = optim.Adam(list(model.parameters()), lr=learning_rate, betas=(0.9, 0.999))\n",
        "\n",
        "valid_score_best = 0\n",
        "patience = 2\n",
        "num_epochs = 5  # you don't need to train this for that long!\n",
        "\n",
        "train_loss_list = []\n",
        "train_score_list = []\n",
        "valid_loss_list = []\n",
        "valid_score_list = []\n",
        "\n",
        "for e in range(num_epochs):\n",
        "    train_score, train_loss = solution.train_loop(model, basset_dataloader_train, device, optimizer, criterion)\n",
        "    valid_score, valid_loss = solution.valid_loop(model, basset_dataloader_valid, device, optimizer, criterion)\n",
        "\n",
        "    print('epoch {}: loss={:.3f} score={:.3f}'.format(e,\n",
        "                                                      valid_loss,\n",
        "                                                      valid_score))\n",
        "    train_loss_list.append(train_loss)\n",
        "    train_score_list.append(train_score)\n",
        "    valid_loss_list.append(valid_loss)\n",
        "    valid_score_list.append(valid_score)\n",
        "\n",
        "    if valid_score > valid_score_best:\n",
        "        print('Best score: {}. Saving model...'.format(valid_score))\n",
        "        torch.save(model, 'model_params.pt')\n",
        "        valid_score_best = valid_score\n",
        "    else:\n",
        "        patience -= 1\n",
        "        print('Score did not improve! {} <= {}. Patience left: {}'.format(valid_score,\n",
        "                                                                          valid_score_best,\n",
        "                                                                          patience))\n",
        "    if patience == 0:\n",
        "        print('patience reduced to 0. Training Finished.')\n",
        "        break"
      ]
    },
    {
      "cell_type": "code",
      "source": [
        "# save the trained model to disk\n",
        "torch.save({\n",
        "            'epoch': num_epochs,\n",
        "            'model_state_dict': model.state_dict(),\n",
        "            'optimizer_state_dict': optimizer.state_dict(),\n",
        "            'loss': criterion,\n",
        "            }, '/content/gdrive/MyDrive/CNNModel.pt')\n",
        "\n",
        "print(\"Our model: \\n\\n\", model, '\\n')\n",
        "print(\"The state dict keys: \\n\\n\", model.state_dict().keys())"
      ],
      "metadata": {
        "id": "FayhmJU2Dyc6"
      },
      "execution_count": null,
      "outputs": []
    },
    {
      "cell_type": "code",
      "source": [
        "#load model\n",
        "model1 = torch.load('/content/gdrive/MyDrive/CNNModel.pt', map_location=torch.device('cpu'))\n",
        "basset = solution.Basset()\n",
        "basset.load_state_dict(model1['model_state_dict'])"
      ],
      "metadata": {
        "id": "-hMHV1QWTS6s"
      },
      "execution_count": null,
      "outputs": []
    },
    {
      "cell_type": "code",
      "source": [
        "#Q5.1\n",
        "\n",
        "#AUC for trained and untrained model\n",
        "basset_untrained = solution.Basset().to(device)\n",
        "\n",
        "untrained_auc = solution.compute_auc_untrained_model(basset_untrained, basset_dataloader_test, device)\n",
        "print('AUC of the untrained model is:',untrained_auc['auc'])\n",
        "\n",
        "trained_auc = solution.compute_auc_untrained_model(basset, basset_dataloader_test, device)\n",
        "print('AUC of the trained model is:',trained_auc['auc'])"
      ],
      "metadata": {
        "id": "MHShhr1OTqz7"
      },
      "execution_count": null,
      "outputs": []
    },
    {
      "cell_type": "code",
      "source": [
        "#ROC curve for trained and untrained model\n",
        "trained_model_AUC = trained_auc['auc']\n",
        "untrained_model_AUC = untrained_auc['auc']\n",
        "import matplotlib.pyplot as plt\n",
        "plt.plot(untrained_auc['fpr'], untrained_auc['tpr'], label = 'Untrained_Model')\n",
        "plt.plot(trained_auc['fpr'], trained_auc['tpr'], label = 'Trained_Model')\n",
        "plt.ylabel('True Positive Rate')\n",
        "plt.xlabel('False Positive Rate')\n",
        "plt.legend()\n",
        "plt.text(0.4,0.1,'trained model AUC is: 0.73952')\n",
        "plt.text(0.4,0.2,'untrained model AUC is: 0.50675')\n",
        "\n",
        "plt.title( 'ROC curve and AUC')\n",
        "plt.show()"
      ],
      "metadata": {
        "id": "G3LeessIT2Rk"
      },
      "execution_count": null,
      "outputs": []
    },
    {
      "cell_type": "code",
      "source": [
        "#Q5.2\n",
        "from Bio import motifs\n",
        "from Bio.Seq import Seq\n",
        "import torch\n",
        "\n",
        "#load and save jaspar data as png file\n",
        "with open('/content/A1/MA0139.1.jaspar') as handle:\n",
        "    for m in motifs.parse(handle, 'jaspar'):\n",
        "        counts = m.counts\n",
        "        m.weblogo('CTCF.png', format = 'png', show_ends = False, show_fineprint = False, show_yaxis = False, show_errorbars = False)\n",
        "\n",
        "norm_counts = counts.normalize()\n",
        "data = list(norm_counts.values())\n",
        "#data is the jaspar file\n",
        "data = np.asarray(data)\n",
        "data.shape"
      ],
      "metadata": {
        "id": "NqL0x3OXUN4-"
      },
      "execution_count": null,
      "outputs": []
    },
    {
      "cell_type": "code",
      "source": [
        "#Q5.3\n",
        "conv_layer = basset.conv1\n",
        "conv_layer = conv_layer.to(device)\n",
        "max_av_mat = -11*torch.ones(300)\n",
        "\n",
        "with torch.no_grad():\n",
        "    for _, sample in enumerate(basset_dataloader_test):\n",
        "        sequence = sample['sequence'].to(device)\n",
        "        out = conv_layer(sequence).permute(1,0,2,3)\n",
        "        out = out.flatten(1)\n",
        "        max_av = torch.max(out, dim = 1)[0].cpu()\n",
        "        \n",
        "        mask = torch.gt(max_av_mat, max_av).to(torch.float)\n",
        "        max_av_mat = max_av_mat*mask + (1-mask)*max_av\n",
        "max_av_mat"
      ],
      "metadata": {
        "id": "cBXmT3hzHryH"
      },
      "execution_count": null,
      "outputs": []
    },
    {
      "cell_type": "code",
      "source": [
        "#Q5.4\n",
        "pwm = torch.zeros(300,19,4)\n",
        "\n",
        "unfold = torch.nn.Unfold(kernel_size = (19,4), padding = (9,0), stride = 1)\n",
        "with torch.no_grad():\n",
        "    for _, sample in enumerate(basset_dataloader_test):\n",
        "        sequence = sample['sequence'].to(device)\n",
        "        unfold_seq = unfold(sequence)\n",
        "        N, _, L = unfold_seq.shape\n",
        "        unfold_seq = unfold_seq.reshape(N,19,4,L)\n",
        "        conv_out = conv_layer(sequence)\n",
        "        \n",
        "        unfold_seq = unfold_seq.permute(0,3,1,2).flatten(0,1)\n",
        "        conv_out = conv_out.squeeze().permute(0,2,1).flatten(0,1)\n",
        "        threshold = max_av_mat.unsqueeze(0).repeat(conv_out.shape[0], 1)\n",
        "        threshold = threshold/2\n",
        "        mask = torch.gt(conv_out.cpu(), threshold)\n",
        "        \n",
        "        for i in range(300):\n",
        "            idx = mask[:, i]\n",
        "            seq_set = unfold_seq[idx]\n",
        "            pwm_i = seq_set.sum(dim = 0)\n",
        "            pwm[i, ...] += pwm_i.cpu()\n",
        "pwm"
      ],
      "metadata": {
        "id": "zpbKL7hkIbEf"
      },
      "execution_count": null,
      "outputs": []
    },
    {
      "cell_type": "code",
      "source": [
        "#normalize the pwm\n",
        "sum_pwm = pwm.sum(dim = 2)\n",
        "norm_pwm = pwm/sum_pwm[:,:,None]\n",
        "norm_pwm = norm_pwm.cpu().numpy()\n",
        "norm_pwm"
      ],
      "metadata": {
        "id": "o4qJIvHWUdbA"
      },
      "execution_count": null,
      "outputs": []
    },
    {
      "cell_type": "code",
      "source": [
        "#save pwm as excel file\n",
        "import pandas as pd\n",
        "t_np = norm_pwm.copy() #convert to Numpy array\n",
        "data = np.zeros((300, 19, 4))\n",
        "\n",
        "writer = pd.ExcelWriter('pwm-Q5-4.xlsx', engine='xlsxwriter')\n",
        "\n",
        "for i in range(0, 300):\n",
        "    df = pd.DataFrame(norm_pwm[i,:,:])\n",
        "    df.to_excel(writer, sheet_name='bin%d' % i)\n",
        "\n",
        "writer.save()"
      ],
      "metadata": {
        "id": "W3CEN2KWUUlA"
      },
      "execution_count": null,
      "outputs": []
    },
    {
      "cell_type": "code",
      "source": [
        "# Q5.5\n",
        "import scipy.stats\n",
        "import matplotlib.pyplot as plt\n",
        "Toutput = []\n",
        "data1 = np.transpose(data)\n",
        "data1 = data1.reshape(-1)\n",
        "print(data1.shape)\n",
        "for i in range(300):\n",
        "  norm_pwm1 = np.asarray(norm_pwm[i,:,:])\n",
        "  norm_pwm1 = norm_pwm1.reshape(-1)\n",
        "  output = scipy.stats.pearsonr(norm_pwm1,data1)\n",
        "  Toutput.append(output)\n",
        "\n",
        "cof = []\n",
        "pval = []\n",
        "for (x1,x2) in Toutput:\n",
        "  cof.append(x1)\n",
        "  pval.append(x2)\n",
        "\n",
        "max = 0\n",
        "for i in range(300):\n",
        "  if cof[i]>max:\n",
        "    max = cof[i]\n",
        "    idex = i\n",
        "\n",
        "print(idex)\n",
        "maxixmom = norm_pwm[idex,:,:]\n",
        "maxixmom.shape"
      ],
      "metadata": {
        "id": "qqhPow-FU5k_"
      },
      "execution_count": null,
      "outputs": []
    },
    {
      "cell_type": "code",
      "source": [
        "#getting the three max of the cof\n",
        "import heapq\n",
        "heapq.nlargest(3, range(len(cof)), key=cof.__getitem__)"
      ],
      "metadata": {
        "id": "0Ra2FBsGU9T8"
      },
      "execution_count": null,
      "outputs": []
    },
    {
      "cell_type": "code",
      "source": [
        "#visulaizing the most correlated filters to pwm\n",
        "from mpl_toolkits.axes_grid1 import make_axes_locatable\n",
        "\n",
        "import numpy as np\n",
        "alpha = ['A', 'C', 'G', 'T']\n",
        "maxixmom1 = norm_pwm[277,:,:]\n",
        "x1 = np.transpose(maxixmom1)\n",
        "maxixmom2 = norm_pwm[127,:,:]\n",
        "x2 = np.transpose(maxixmom2)\n",
        "x = data\n",
        "\n",
        "fig = plt.figure(figsize=(25, 25))\n",
        "ax1 = fig.add_subplot(131)\n",
        "im1 = ax1.imshow(x1, interpolation='None')\n",
        "ax1.set_title(\"The most correlated filter\")\n",
        "ax1.set_yticklabels(['']+alpha)\n",
        "\n",
        "divider = make_axes_locatable(ax1)\n",
        "cax = divider.append_axes('right', size='5%', pad=0.05)\n",
        "fig.colorbar(im1, cax=cax, orientation='vertical')\n",
        "\n",
        "ax2 = fig.add_subplot(132)\n",
        "im2 = ax2.imshow(x2, interpolation='None')\n",
        "ax2.set_title(\"The second most correlated filter\")\n",
        "ax2.set_yticklabels(['']+alpha)\n",
        "\n",
        "divider = make_axes_locatable(ax2)\n",
        "cax = divider.append_axes('right', size='5%', pad=0.05)\n",
        "fig.colorbar(im2, cax=cax, orientation='vertical');\n",
        "\n",
        "ax3 = fig.add_subplot(133)\n",
        "im3 = ax3.imshow(x, interpolation='None')\n",
        "ax3.set_title(\"The PWM of CTCF\")\n",
        "ax3.set_yticklabels(['']+alpha)\n",
        "\n",
        "divider = make_axes_locatable(ax3)\n",
        "cax = divider.append_axes('right', size='5%', pad=0.05)\n",
        "fig.colorbar(im3, cax=cax, orientation='vertical');"
      ],
      "metadata": {
        "id": "RaMzxKOYVHiJ"
      },
      "execution_count": null,
      "outputs": []
    },
    {
      "cell_type": "markdown",
      "metadata": {
        "id": "P3WqwIe_2f3j"
      },
      "source": [
        "# **Question 5 (Interpreting the Model)**\n",
        "\n",
        "(30 points) In real-world applications of deep learning, it is *crucial* that we verify that our models are learning what we expect them to learn. In this exercise, we will replicate a part of figure 3b from [Basset](https://pubmed.ncbi.nlm.nih.gov/27197224/).\n",
        "\n",
        "In genetics, there exists well known DNA *motifs*: short sequences which appear throughtout our DNA, and whose function are well documented. We expect that the filters of the first convolution layer should learn to identify some of these motifs in order to solve this task.\n",
        "\n",
        "**Please submit the answers to this exercise on a single paged PDF!**\n",
        "\n",
        "1. First, we need to ensure that our model has learned something. Plot the ROC curve and compute the AUC of your model after training. Compare the ROC curves and the AUC before and after training with your simulated models. What do you notice?"
      ]
    },
    {
      "cell_type": "markdown",
      "metadata": {
        "id": "Gyyk4qP4sJPO"
      },
      "source": [
        "2. We represent motifs as position weight matrices (PWMs). This is a matrix of size $4$ $\\times$ the motif length, where the $(i,j)$th entry is a count of how often base-pair $i$ occurs at position $j$. Open the PWM for the CTCF motif, which can be found in `MA0139.1.jaspar`. Normalize this matrix so that each column sums to $1$. Display the PWM."
      ]
    },
    {
      "cell_type": "markdown",
      "metadata": {
        "id": "O1x6qoXteLaf"
      },
      "source": [
        "3. In the methods section of the [paper](https://pubmed.ncbi.nlm.nih.gov/27197224/) (page 998), the authors describe how they converted each of the $300$ filters into normalized PWMs. First, for each filter, they determined the maximum activated value across the *dataset* (you may use a subset of the test set here). Compute these values."
      ]
    },
    {
      "cell_type": "markdown",
      "metadata": {
        "id": "VaVuQwub8Ap_"
      },
      "source": [
        "\n",
        "4. Next, they counted the base-pair occurrences in the set of sequences that activate the filter to a value that is more than half of its maximum value.\n",
        "\n",
        "  Note: You should use `torch.functional.unfold`."
      ]
    },
    {
      "cell_type": "markdown",
      "metadata": {
        "id": "MIClN1pr8rc-"
      },
      "source": [
        "5. Given your 300 PWMs derived from your convolution filters, check to see if any of them are similar to the PWM for CTCF. You could quantify the similarity using *Pearson Correlation Coefficient*. Make a visualization of the PWM of the CTCF motif along with the most similar ones learned from the network. "
      ]
    }
  ],
  "metadata": {
    "colab": {
      "collapsed_sections": [],
      "name": "Assignment1-main.ipynb",
      "provenance": []
    },
    "kernelspec": {
      "display_name": "Python 3.8",
      "language": "python",
      "name": "python3"
    },
    "language_info": {
      "codemirror_mode": {
        "name": "ipython",
        "version": 3
      },
      "file_extension": ".py",
      "mimetype": "text/x-python",
      "name": "python",
      "nbconvert_exporter": "python",
      "pygments_lexer": "ipython3",
      "version": "3.8.2"
    }
  },
  "nbformat": 4,
  "nbformat_minor": 0
}